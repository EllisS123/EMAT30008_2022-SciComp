{
  "nbformat": 4,
  "nbformat_minor": 0,
  "metadata": {
    "colab": {
      "provenance": []
    },
    "kernelspec": {
      "name": "python3",
      "display_name": "Python 3"
    },
    "language_info": {
      "name": "python"
    }
  },
  "cells": [
    {
      "cell_type": "markdown",
      "source": [
        "#Scientific Computing - Assessment - Ellis Southall\n"
      ],
      "metadata": {
        "id": "1rT60qJenZwm"
      }
    },
    {
      "cell_type": "markdown",
      "source": [
        "ODE Solver\n",
        "This function is designed to take an ODE or a system of ODEs and solve it using the Euler method or the 4th order Runge-Kutta method.\n",
        "An example of how to call the function is shown below."
      ],
      "metadata": {
        "id": "oKtr-9etnmVy"
      }
    },
    {
      "cell_type": "code",
      "source": [
        "t, state = solve_to(system, y0, t0, tn, deltat_max, tol, method):\n",
        "   \"\"\"\n",
        "    \n",
        "    Parameters:\n",
        "        system: A function that defines the differential equations if it is a \n",
        "                system of equations it should return a list of the variables\n",
        "        y0 (list): The list of initial values of y at time t0.\n",
        "        t0 (float): The initial time value.\n",
        "        tn (float): The final time value.\n",
        "        deltat_max (float): The maximum step size.\n",
        "        tol (float): The tolerance\n",
        "        method (string): Euler or RK4\n",
        "        \n",
        "    Returns:\n",
        "        Two arrays containing the time values and the corresponding values of y.\n",
        "    \"\"\""
      ],
      "metadata": {
        "id": "X-WQNs1Uoqrg"
      },
      "execution_count": null,
      "outputs": []
    },
    {
      "cell_type": "markdown",
      "source": [],
      "metadata": {
        "id": "hglQIigRqgEB"
      }
    }
  ]
}